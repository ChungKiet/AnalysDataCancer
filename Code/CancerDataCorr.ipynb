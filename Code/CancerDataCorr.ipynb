{
 "cells": [
  {
   "cell_type": "markdown",
   "metadata": {},
   "source": [
    "## Thông tin sinh viên:\n",
    "- Họ và tên: Chung Hoàng Tuấn Kiệt\n",
    "- MSSV: 19120553\n",
    "- Lớp: CNTN19"
   ]
  },
  {
   "cell_type": "markdown",
   "metadata": {},
   "source": [
    "## Import library"
   ]
  },
  {
   "cell_type": "code",
   "execution_count": 276,
   "metadata": {},
   "outputs": [],
   "source": [
    "import pandas as pd\n",
    "import numpy as np\n",
    "import matplotlib.pyplot as plt\n",
    "from sklearn.linear_model import LinearRegression\n",
    "from sklearn.metrics import mean_squared_error\n",
    "from sklearn.ensemble import RandomForestRegressor\n",
    "from sklearn.metrics import r2_score"
   ]
  },
  {
   "cell_type": "markdown",
   "metadata": {},
   "source": [
    "## Read Data"
   ]
  },
  {
   "cell_type": "markdown",
   "metadata": {},
   "source": [
    "### Read file"
   ]
  },
  {
   "cell_type": "code",
   "execution_count": 277,
   "metadata": {},
   "outputs": [],
   "source": [
    "# Read data_cntn19.csv file\n",
    "df = pd.read_excel(\"../Data/data_cntn19.xlsx\") "
   ]
  },
  {
   "cell_type": "code",
   "execution_count": 278,
   "metadata": {},
   "outputs": [
    {
     "name": "stdout",
     "output_type": "stream",
     "text": [
      "  ImmunoPhenotype  sum_frameshift_expression  max_frameshift_expression  \\\n",
      "0          Desert                  65.052090                   37.23766   \n",
      "1          Desert                 124.985740                   33.15245   \n",
      "2          Desert                 140.991170                   36.67102   \n",
      "3          Desert                 276.583909                   35.75460   \n",
      "4          Desert                 222.826690                   33.69304   \n",
      "\n",
      "         PFS  \n",
      "0   1.971253  \n",
      "1   5.716632  \n",
      "2  11.827515  \n",
      "3   0.032854  \n",
      "4   7.490760  \n"
     ]
    }
   ],
   "source": [
    "print(df.head())"
   ]
  },
  {
   "cell_type": "markdown",
   "metadata": {},
   "source": [
    "### Split Into Column"
   ]
  },
  {
   "cell_type": "code",
   "execution_count": 279,
   "metadata": {},
   "outputs": [],
   "source": [
    "# Split data  into main column\n",
    "ImunoType = df[\"ImmunoPhenotype\"]\n",
    "SumFrameExp = df[\"sum_frameshift_expression\"]\n",
    "MaxFrameExp = df[\"max_frameshift_expression\"]\n",
    "PFS =df[\"PFS\"]"
   ]
  },
  {
   "cell_type": "markdown",
   "metadata": {},
   "source": [
    "### Column To Vector"
   ]
  },
  {
   "cell_type": "code",
   "execution_count": 280,
   "metadata": {},
   "outputs": [],
   "source": [
    "# Transform column to vector\n",
    "x1 = np.array(ImunoType).reshape(-1,1)\n",
    "x2 = np.array([SumFrameExp]).reshape(-1,1)\n",
    "x3 = np.array([MaxFrameExp]).reshape(-1,1)\n",
    "x2_3 =  np.concatenate((x2, x3), axis=1)\n",
    "y = np.array([PFS]).reshape(-1,1)"
   ]
  },
  {
   "cell_type": "markdown",
   "metadata": {},
   "source": [
    "## Visualization"
   ]
  },
  {
   "cell_type": "markdown",
   "metadata": {},
   "source": [
    "### Function"
   ]
  },
  {
   "cell_type": "code",
   "execution_count": 281,
   "metadata": {},
   "outputs": [],
   "source": [
    "# Visualize value after predict\n",
    "def visualize(X_, Y_, Y_predict, X_name,Y_name, title):\n",
    "   plt.scatter(X_, Y_, color = 'blue')\n",
    "   plt.title(title)\n",
    "   plt.plot(X_,Y_predict, color = 'red')\n",
    "   plt.xlabel(X_name)\n",
    "   plt.ylabel(Y_name)\n",
    "   plt.show()"
   ]
  },
  {
   "cell_type": "markdown",
   "metadata": {},
   "source": [
    "### Type To Label"
   ]
  },
  {
   "cell_type": "code",
   "execution_count": 282,
   "metadata": {},
   "outputs": [],
   "source": [
    "X_LABEL_NUM = [0]*len(x1[x1==\"Desert\"]) + [1]*len(x1[x1==\"Excluded\"]) + [2]*len(x1[x1==\"Infiltrated\"]) +\\\n",
    "   [3]*len(x1[x1==\"No_IF\"])"
   ]
  },
  {
   "cell_type": "code",
   "execution_count": 283,
   "metadata": {},
   "outputs": [],
   "source": [
    "X_LABEL = [\"Desert\", \"Excluded\", \"Infiltrated\", \"No_IF\"]"
   ]
  },
  {
   "cell_type": "markdown",
   "metadata": {},
   "source": [
    "### Plot Data"
   ]
  },
  {
   "cell_type": "code",
   "execution_count": 284,
   "metadata": {},
   "outputs": [
    {
     "data": {
      "image/png": "[encoded data removed]",
      "text/plain": [
       "<Figure size 432x288 with 1 Axes>"
      ]
     },
     "metadata": {
      "needs_background": "light"
     },
     "output_type": "display_data"
    }
   ],
   "source": [
    "# Plot data for each of type\n",
    "plt.scatter(X_LABEL_NUM, y, color = 'blue')\n",
    "plt.title('PFS By ImmunoType')\n",
    "plt.xticks(X_LABEL_NUM, np.array([label[0] for label in x1]))\n",
    "plt.xlabel('Immuno Type')\n",
    "plt.ylabel('PFS')\n",
    "plt.show()"
   ]
  },
  {
   "cell_type": "code",
   "execution_count": 285,
   "metadata": {},
   "outputs": [
    {
     "data": {
      "text/plain": [
       "<AxesSubplot:>"
      ]
     },
     "execution_count": 285,
     "metadata": {},
     "output_type": "execute_result"
    },
    {
     "data": {
      "image/png": "[encoded data removed]",
      "text/plain": [
       "<Figure size 432x288 with 1 Axes>"
      ]
     },
     "metadata": {
      "needs_background": "light"
     },
     "output_type": "display_data"
    }
   ],
   "source": [
    "# Count value for each type\n",
    "df['ImmunoPhenotype'].value_counts().plot(kind='bar')"
   ]
  },
  {
   "cell_type": "code",
   "execution_count": 286,
   "metadata": {},
   "outputs": [
    {
     "data": {
      "text/html": [
       "<div>\n",
       "<style scoped>\n",
       "    .dataframe tbody tr th:only-of-type {\n",
       "        vertical-align: middle;\n",
       "    }\n",
       "\n",
       "    .dataframe tbody tr th {\n",
       "        vertical-align: top;\n",
       "    }\n",
       "\n",
       "    .dataframe thead th {\n",
       "        text-align: right;\n",
       "    }\n",
       "</style>\n",
       "<table border=\"1\" class=\"dataframe\">\n",
       "  <thead>\n",
       "    <tr style=\"text-align: right;\">\n",
       "      <th></th>\n",
       "      <th>sum_frameshift_expression</th>\n",
       "      <th>max_frameshift_expression</th>\n",
       "      <th>PFS</th>\n",
       "    </tr>\n",
       "  </thead>\n",
       "  <tbody>\n",
       "    <tr>\n",
       "      <th>sum_frameshift_expression</th>\n",
       "      <td>1.000000</td>\n",
       "      <td>0.410856</td>\n",
       "      <td>-0.059118</td>\n",
       "    </tr>\n",
       "    <tr>\n",
       "      <th>max_frameshift_expression</th>\n",
       "      <td>0.410856</td>\n",
       "      <td>1.000000</td>\n",
       "      <td>-0.145873</td>\n",
       "    </tr>\n",
       "    <tr>\n",
       "      <th>PFS</th>\n",
       "      <td>-0.059118</td>\n",
       "      <td>-0.145873</td>\n",
       "      <td>1.000000</td>\n",
       "    </tr>\n",
       "  </tbody>\n",
       "</table>\n",
       "</div>"
      ],
      "text/plain": [
       "                           sum_frameshift_expression  \\\n",
       "sum_frameshift_expression                   1.000000   \n",
       "max_frameshift_expression                   0.410856   \n",
       "PFS                                        -0.059118   \n",
       "\n",
       "                           max_frameshift_expression       PFS  \n",
       "sum_frameshift_expression                   0.410856 -0.059118  \n",
       "max_frameshift_expression                   1.000000 -0.145873  \n",
       "PFS                                        -0.145873  1.000000  "
      ]
     },
     "execution_count": 286,
     "metadata": {},
     "output_type": "execute_result"
    }
   ],
   "source": [
    "df.corr()"
   ]
  },
  {
   "cell_type": "markdown",
   "metadata": {},
   "source": [
    "## Linear Regression"
   ]
  },
  {
   "cell_type": "code",
   "execution_count": 287,
   "metadata": {},
   "outputs": [],
   "source": [
    "# Init model\n",
    "linearModel = LinearRegression()"
   ]
  },
  {
   "cell_type": "markdown",
   "metadata": {},
   "source": [
    "### Sum FrameShift Expression"
   ]
  },
  {
   "cell_type": "code",
   "execution_count": 288,
   "metadata": {},
   "outputs": [],
   "source": [
    "# Linear Regression With Sum FrameShift Expression\n",
    "SumModel = linearModel.fit(x2,y)\n",
    "PredictValue = linearModel.predict(x2)"
   ]
  },
  {
   "cell_type": "code",
   "execution_count": 289,
   "metadata": {},
   "outputs": [
    {
     "data": {
      "text/plain": [
       "array([[-0.00441277]])"
      ]
     },
     "execution_count": 289,
     "metadata": {},
     "output_type": "execute_result"
    }
   ],
   "source": [
    "# Coefficent\n",
    "SumModel.coef_"
   ]
  },
  {
   "cell_type": "code",
   "execution_count": 290,
   "metadata": {},
   "outputs": [
    {
     "data": {
      "image/png": "[encoded data removed]",
      "text/plain": [
       "<Figure size 432x288 with 1 Axes>"
      ]
     },
     "metadata": {
      "needs_background": "light"
     },
     "output_type": "display_data"
    }
   ],
   "source": [
    "# Visualize Result\n",
    "visualize(x2, y, PredictValue, 'Sum FrameShift Expression','PFS',\\\n",
    "   'PFS By Sum FrameShift Expression')"
   ]
  },
  {
   "cell_type": "code",
   "execution_count": 291,
   "metadata": {},
   "outputs": [
    {
     "data": {
      "text/plain": [
       "0.003494974195084821"
      ]
     },
     "execution_count": 291,
     "metadata": {},
     "output_type": "execute_result"
    }
   ],
   "source": [
    "# Score of model\n",
    "SumModel.score(x2, y)"
   ]
  },
  {
   "cell_type": "markdown",
   "metadata": {},
   "source": [
    "### Max FrameShift Expression"
   ]
  },
  {
   "cell_type": "code",
   "execution_count": 292,
   "metadata": {},
   "outputs": [],
   "source": [
    "# Linear Regression With Max FrameShift Expression\n",
    "MaxModel = linearModel.fit(x3,y)\n",
    "PredictValue = linearModel.predict(x3)"
   ]
  },
  {
   "cell_type": "code",
   "execution_count": 293,
   "metadata": {},
   "outputs": [
    {
     "data": {
      "text/plain": [
       "array([[-0.58795704]])"
      ]
     },
     "execution_count": 293,
     "metadata": {},
     "output_type": "execute_result"
    }
   ],
   "source": [
    "# Coefficent\n",
    "MaxModel.coef_"
   ]
  },
  {
   "cell_type": "code",
   "execution_count": 294,
   "metadata": {},
   "outputs": [
    {
     "data": {
      "image/png": "[encoded data removed]",
      "text/plain": [
       "<Figure size 432x288 with 1 Axes>"
      ]
     },
     "metadata": {
      "needs_background": "light"
     },
     "output_type": "display_data"
    }
   ],
   "source": [
    "# Visualize Result\n",
    "visualize(x3, y, PredictValue, 'Max FrameShift Expression','PFS',\\\n",
    "   'PFS By Max FrameShift Expression')"
   ]
  },
  {
   "cell_type": "code",
   "execution_count": 295,
   "metadata": {},
   "outputs": [
    {
     "data": {
      "text/plain": [
       "0.02127897176627258"
      ]
     },
     "execution_count": 295,
     "metadata": {},
     "output_type": "execute_result"
    }
   ],
   "source": [
    "# Score\n",
    "MaxModel.score(x3, y)"
   ]
  },
  {
   "cell_type": "markdown",
   "metadata": {},
   "source": [
    "### Sum And Max FrameShift Expression"
   ]
  },
  {
   "cell_type": "code",
   "execution_count": 296,
   "metadata": {},
   "outputs": [],
   "source": [
    "# Linear Regression With Sum And Max FrameShift Expression\n",
    "SumAndMaxModel = linearModel.fit(x2_3,y)\n",
    "PredictValue = linearModel.predict(x2_3)"
   ]
  },
  {
   "cell_type": "code",
   "execution_count": 297,
   "metadata": {},
   "outputs": [
    {
     "data": {
      "text/plain": [
       "array([[ 7.31494089e-05, -5.89579906e-01]])"
      ]
     },
     "execution_count": 297,
     "metadata": {},
     "output_type": "execute_result"
    }
   ],
   "source": [
    "# Coefficent\n",
    "SumAndMaxModel.coef_"
   ]
  },
  {
   "cell_type": "markdown",
   "metadata": {},
   "source": [
    "## Linear Regression For Each Type"
   ]
  },
  {
   "cell_type": "markdown",
   "metadata": {},
   "source": [
    "### Desert And Excluded"
   ]
  },
  {
   "cell_type": "code",
   "execution_count": 298,
   "metadata": {},
   "outputs": [],
   "source": [
    "# Desert Data\n",
    "X_Desert = [x2_3[i] for i in range(len(x1)) if x1[i]==\"Desert\"]\n",
    "Y_Desert = [y[i] for i in range(len(x1)) if x1[i]==\"Desert\"]"
   ]
  },
  {
   "cell_type": "code",
   "execution_count": 299,
   "metadata": {},
   "outputs": [
    {
     "name": "stdout",
     "output_type": "stream",
     "text": [
      "Score in case Desert:  0.12184882807597375\n"
     ]
    }
   ],
   "source": [
    "# Desert Model\n",
    "desertModel = linearModel.fit(X_Desert, Y_Desert)\n",
    "\n",
    "Score = desertModel.score(X_Desert, Y_Desert)\n",
    "\n",
    "print(\"Score in case Desert: \", Score)"
   ]
  },
  {
   "cell_type": "markdown",
   "metadata": {},
   "source": [
    "### Infiltrated"
   ]
  },
  {
   "cell_type": "code",
   "execution_count": 300,
   "metadata": {},
   "outputs": [],
   "source": [
    "# Infiltrated Data\n",
    "X_Infiltrated = [x2_3[i] for i in range(len(x1)) if x1[i]==\"Infiltrated\"]\n",
    "Y_Infiltrated = [y[i] for i in range(len(x1)) if x1[i]==\"Infiltrated\"]"
   ]
  },
  {
   "cell_type": "code",
   "execution_count": 301,
   "metadata": {},
   "outputs": [
    {
     "name": "stdout",
     "output_type": "stream",
     "text": [
      "Score in case Infiltrated:  0.2822465397127508\n"
     ]
    }
   ],
   "source": [
    "# Infiltrated Model\n",
    "infiltratedModel = linearModel.fit(X_Infiltrated, Y_Infiltrated)\n",
    "\n",
    "Score = infiltratedModel.score(X_Infiltrated, Y_Infiltrated)\n",
    "\n",
    "print(\"Score in case Infiltrated: \", Score)"
   ]
  },
  {
   "cell_type": "markdown",
   "metadata": {},
   "source": [
    "### No_IF"
   ]
  },
  {
   "cell_type": "code",
   "execution_count": 302,
   "metadata": {},
   "outputs": [],
   "source": [
    "# No IF Data\n",
    "X_No_IF = [x2_3[i] for i in range(len(x1)) if x1[i]==\"No_IF\"]\n",
    "Y_No_IF = [y[i] for i in range(len(x1)) if x1[i]==\"No_IF\"]"
   ]
  },
  {
   "cell_type": "code",
   "execution_count": 303,
   "metadata": {},
   "outputs": [
    {
     "name": "stdout",
     "output_type": "stream",
     "text": [
      "Score in case Desert:  0.004331448531450843\n"
     ]
    }
   ],
   "source": [
    "# No IF Model\n",
    "noIFModel = linearModel.fit(X_No_IF, Y_No_IF)\n",
    "\n",
    "Score = noIFModel.score(X_No_IF, Y_No_IF)\n",
    "\n",
    "print(\"Score in case Desert: \", Score)"
   ]
  },
  {
   "cell_type": "markdown",
   "metadata": {},
   "source": [
    "## Random Forest Regressor"
   ]
  },
  {
   "cell_type": "markdown",
   "metadata": {},
   "source": [
    "### Add New Column"
   ]
  },
  {
   "cell_type": "markdown",
   "metadata": {},
   "source": [
    "Tạo các cột mới với:\n",
    "- Desert: Dòng hiện tại thuộc type Desert thì sẽ mang giá trị 1, ngược lại 0\n",
    "- Infiltrated: Dòng hiện tại thuộc type Infiltrated thì sẽ mang giá trị 1, ngược lại 0\n",
    "- No_IF: Dòng hiện tại thuộc type No_IF thì sẽ mang giá trị 1, ngược lại 0"
   ]
  },
  {
   "cell_type": "code",
   "execution_count": 304,
   "metadata": {},
   "outputs": [],
   "source": [
    "# Tạo cột\n",
    "Desert = x1==\"Desert\"\n",
    "Infiltrated = x1==\"Infiltrated\"\n",
    "No_IF = x1==\"No_IF\""
   ]
  },
  {
   "cell_type": "code",
   "execution_count": 305,
   "metadata": {},
   "outputs": [],
   "source": [
    "# Đổi giá trị\n",
    "Desert = [1 if value else 0 for value in Desert]\n",
    "Infiltrated = [1 if value else 0 for value in Infiltrated]\n",
    "No_IF = [1 if value else 0 for value in No_IF]"
   ]
  },
  {
   "cell_type": "code",
   "execution_count": 306,
   "metadata": {},
   "outputs": [],
   "source": [
    "# Thêm cột\n",
    "df[\"Desert\"] = Desert\n",
    "df[\"Infiltrated\"] = Infiltrated\n",
    "df[\"No_IF\"] = No_IF"
   ]
  },
  {
   "cell_type": "code",
   "execution_count": 307,
   "metadata": {},
   "outputs": [
    {
     "data": {
      "text/html": [
       "<div>\n",
       "<style scoped>\n",
       "    .dataframe tbody tr th:only-of-type {\n",
       "        vertical-align: middle;\n",
       "    }\n",
       "\n",
       "    .dataframe tbody tr th {\n",
       "        vertical-align: top;\n",
       "    }\n",
       "\n",
       "    .dataframe thead th {\n",
       "        text-align: right;\n",
       "    }\n",
       "</style>\n",
       "<table border=\"1\" class=\"dataframe\">\n",
       "  <thead>\n",
       "    <tr style=\"text-align: right;\">\n",
       "      <th></th>\n",
       "      <th>ImmunoPhenotype</th>\n",
       "      <th>sum_frameshift_expression</th>\n",
       "      <th>max_frameshift_expression</th>\n",
       "      <th>PFS</th>\n",
       "      <th>Desert</th>\n",
       "      <th>Infiltrated</th>\n",
       "      <th>No_IF</th>\n",
       "    </tr>\n",
       "  </thead>\n",
       "  <tbody>\n",
       "    <tr>\n",
       "      <th>0</th>\n",
       "      <td>Desert</td>\n",
       "      <td>65.052090</td>\n",
       "      <td>37.23766</td>\n",
       "      <td>1.971253</td>\n",
       "      <td>1</td>\n",
       "      <td>0</td>\n",
       "      <td>0</td>\n",
       "    </tr>\n",
       "    <tr>\n",
       "      <th>1</th>\n",
       "      <td>Desert</td>\n",
       "      <td>124.985740</td>\n",
       "      <td>33.15245</td>\n",
       "      <td>5.716632</td>\n",
       "      <td>1</td>\n",
       "      <td>0</td>\n",
       "      <td>0</td>\n",
       "    </tr>\n",
       "    <tr>\n",
       "      <th>2</th>\n",
       "      <td>Desert</td>\n",
       "      <td>140.991170</td>\n",
       "      <td>36.67102</td>\n",
       "      <td>11.827515</td>\n",
       "      <td>1</td>\n",
       "      <td>0</td>\n",
       "      <td>0</td>\n",
       "    </tr>\n",
       "    <tr>\n",
       "      <th>3</th>\n",
       "      <td>Desert</td>\n",
       "      <td>276.583909</td>\n",
       "      <td>35.75460</td>\n",
       "      <td>0.032854</td>\n",
       "      <td>1</td>\n",
       "      <td>0</td>\n",
       "      <td>0</td>\n",
       "    </tr>\n",
       "    <tr>\n",
       "      <th>4</th>\n",
       "      <td>Desert</td>\n",
       "      <td>222.826690</td>\n",
       "      <td>33.69304</td>\n",
       "      <td>7.490760</td>\n",
       "      <td>1</td>\n",
       "      <td>0</td>\n",
       "      <td>0</td>\n",
       "    </tr>\n",
       "    <tr>\n",
       "      <th>...</th>\n",
       "      <td>...</td>\n",
       "      <td>...</td>\n",
       "      <td>...</td>\n",
       "      <td>...</td>\n",
       "      <td>...</td>\n",
       "      <td>...</td>\n",
       "      <td>...</td>\n",
       "    </tr>\n",
       "    <tr>\n",
       "      <th>198</th>\n",
       "      <td>No_IF</td>\n",
       "      <td>258.997350</td>\n",
       "      <td>37.08511</td>\n",
       "      <td>1.216438</td>\n",
       "      <td>0</td>\n",
       "      <td>0</td>\n",
       "      <td>1</td>\n",
       "    </tr>\n",
       "    <tr>\n",
       "      <th>199</th>\n",
       "      <td>No_IF</td>\n",
       "      <td>139.206440</td>\n",
       "      <td>32.59091</td>\n",
       "      <td>1.347945</td>\n",
       "      <td>0</td>\n",
       "      <td>0</td>\n",
       "      <td>1</td>\n",
       "    </tr>\n",
       "    <tr>\n",
       "      <th>200</th>\n",
       "      <td>No_IF</td>\n",
       "      <td>32.050800</td>\n",
       "      <td>32.05080</td>\n",
       "      <td>1.446575</td>\n",
       "      <td>0</td>\n",
       "      <td>0</td>\n",
       "      <td>1</td>\n",
       "    </tr>\n",
       "    <tr>\n",
       "      <th>201</th>\n",
       "      <td>No_IF</td>\n",
       "      <td>149.363077</td>\n",
       "      <td>33.14751</td>\n",
       "      <td>5.654795</td>\n",
       "      <td>0</td>\n",
       "      <td>0</td>\n",
       "      <td>1</td>\n",
       "    </tr>\n",
       "    <tr>\n",
       "      <th>202</th>\n",
       "      <td>No_IF</td>\n",
       "      <td>230.216380</td>\n",
       "      <td>34.95570</td>\n",
       "      <td>25.117808</td>\n",
       "      <td>0</td>\n",
       "      <td>0</td>\n",
       "      <td>1</td>\n",
       "    </tr>\n",
       "  </tbody>\n",
       "</table>\n",
       "<p>203 rows × 7 columns</p>\n",
       "</div>"
      ],
      "text/plain": [
       "    ImmunoPhenotype  sum_frameshift_expression  max_frameshift_expression  \\\n",
       "0            Desert                  65.052090                   37.23766   \n",
       "1            Desert                 124.985740                   33.15245   \n",
       "2            Desert                 140.991170                   36.67102   \n",
       "3            Desert                 276.583909                   35.75460   \n",
       "4            Desert                 222.826690                   33.69304   \n",
       "..              ...                        ...                        ...   \n",
       "198           No_IF                 258.997350                   37.08511   \n",
       "199           No_IF                 139.206440                   32.59091   \n",
       "200           No_IF                  32.050800                   32.05080   \n",
       "201           No_IF                 149.363077                   33.14751   \n",
       "202           No_IF                 230.216380                   34.95570   \n",
       "\n",
       "           PFS  Desert  Infiltrated  No_IF  \n",
       "0     1.971253       1            0      0  \n",
       "1     5.716632       1            0      0  \n",
       "2    11.827515       1            0      0  \n",
       "3     0.032854       1            0      0  \n",
       "4     7.490760       1            0      0  \n",
       "..         ...     ...          ...    ...  \n",
       "198   1.216438       0            0      1  \n",
       "199   1.347945       0            0      1  \n",
       "200   1.446575       0            0      1  \n",
       "201   5.654795       0            0      1  \n",
       "202  25.117808       0            0      1  \n",
       "\n",
       "[203 rows x 7 columns]"
      ]
     },
     "execution_count": 307,
     "metadata": {},
     "output_type": "execute_result"
    }
   ],
   "source": [
    "df"
   ]
  },
  {
   "cell_type": "markdown",
   "metadata": {},
   "source": [
    "### Random Forest"
   ]
  },
  {
   "cell_type": "code",
   "execution_count": 308,
   "metadata": {},
   "outputs": [],
   "source": [
    "# hyper Parameters\n",
    "max_depth = 2\n",
    "random_state = 80\n",
    "n_estimators = 80"
   ]
  },
  {
   "cell_type": "code",
   "execution_count": 309,
   "metadata": {},
   "outputs": [],
   "source": [
    "# Init Model\n",
    "RandomForestModel = RandomForestRegressor(max_depth=max_depth, random_state=random_state,\n",
    "                            n_estimators=n_estimators)"
   ]
  },
  {
   "cell_type": "code",
   "execution_count": 310,
   "metadata": {},
   "outputs": [],
   "source": [
    "# Init Data\n",
    "X_train = df[['sum_frameshift_expression', 'max_frameshift_expression', \n",
    "           'Desert', \n",
    "           'Infiltrated', 'No_IF']]\n",
    "Y_train = y"
   ]
  },
  {
   "cell_type": "code",
   "execution_count": 311,
   "metadata": {},
   "outputs": [
    {
     "name": "stderr",
     "output_type": "stream",
     "text": [
      "C:\\Users\\LENOVO\\AppData\\Local\\Temp\\ipykernel_32880\\994383954.py:2: DataConversionWarning: A column-vector y was passed when a 1d array was expected. Please change the shape of y to (n_samples,), for example using ravel().\n",
      "  RandomForestModel.fit(X_train, Y_train)\n"
     ]
    },
    {
     "data": {
      "text/plain": [
       "RandomForestRegressor(max_depth=2, n_estimators=80, random_state=80)"
      ]
     },
     "execution_count": 311,
     "metadata": {},
     "output_type": "execute_result"
    }
   ],
   "source": [
    "# Training\n",
    "RandomForestModel.fit(X_train, Y_train)"
   ]
  },
  {
   "cell_type": "code",
   "execution_count": 312,
   "metadata": {},
   "outputs": [
    {
     "name": "stdout",
     "output_type": "stream",
     "text": [
      "Root Mean Squared Error (RMSE):  8.594252476566858\n",
      "R2 score:  0.1888386773458297\n"
     ]
    }
   ],
   "source": [
    "# Predict And Score\n",
    "PredictValue = pd.Series(RandomForestModel.predict(X_train), index=X_train.index)\n",
    "MSE = mean_squared_error(Y_train, PredictValue)\n",
    "RMSE = np.sqrt(MSE)\n",
    "\n",
    "print('Root Mean Squared Error (RMSE): ', RMSE)\n",
    "\n",
    "print('R2 score: ', r2_score(Y_train, PredictValue))"
   ]
  },
  {
   "cell_type": "code",
   "execution_count": 313,
   "metadata": {},
   "outputs": [
    {
     "name": "stdout",
     "output_type": "stream",
     "text": [
      "[0.38227523 0.50880324 0.01084891 0.04883971 0.04923292]\n"
     ]
    }
   ],
   "source": [
    "# Feature importance \n",
    "print(RandomForestModel.feature_importances_)"
   ]
  },
  {
   "cell_type": "markdown",
   "metadata": {},
   "source": [
    "### Score Function"
   ]
  },
  {
   "cell_type": "code",
   "execution_count": 314,
   "metadata": {},
   "outputs": [],
   "source": [
    "# Score Function\n",
    "def R2ScoreOfModel(X_train, Y_train, n_estimators, max_depth, random_state):\n",
    "  R2Avarage = 0\n",
    "  for i in range(n_estimators):\n",
    "    RandomForestModel = RandomForestRegressor(max_depth=max_depth, random_state=random_state, \\\n",
    "                                n_estimators=n_estimators)\n",
    "    RandomForestModel.fit(X_train, Y_train)\n",
    "    PredictValue = pd.Series(RandomForestModel.predict(X_train), index=X_train.index)\n",
    "    R2Avarage += r2_score(Y_train, PredictValue)\n",
    "  return R2Avarage/n_estimators"
   ]
  },
  {
   "cell_type": "code",
   "execution_count": 315,
   "metadata": {},
   "outputs": [
    {
     "name": "stderr",
     "output_type": "stream",
     "text": [
      "C:\\Users\\LENOVO\\AppData\\Local\\Temp\\ipykernel_32880\\1365814153.py:7: DataConversionWarning: A column-vector y was passed when a 1d array was expected. Please change the shape of y to (n_samples,), for example using ravel().\n",
      "  RandomForestModel.fit(X_train, Y_train)\n",
      "C:\\Users\\LENOVO\\AppData\\Local\\Temp\\ipykernel_32880\\1365814153.py:7: DataConversionWarning: A column-vector y was passed when a 1d array was expected. Please change the shape of y to (n_samples,), for example using ravel().\n",
      "  RandomForestModel.fit(X_train, Y_train)\n",
      "C:\\Users\\LENOVO\\AppData\\Local\\Temp\\ipykernel_32880\\1365814153.py:7: DataConversionWarning: A column-vector y was passed when a 1d array was expected. Please change the shape of y to (n_samples,), for example using ravel().\n",
      "  RandomForestModel.fit(X_train, Y_train)\n",
      "C:\\Users\\LENOVO\\AppData\\Local\\Temp\\ipykernel_32880\\1365814153.py:7: DataConversionWarning: A column-vector y was passed when a 1d array was expected. Please change the shape of y to (n_samples,), for example using ravel().\n",
      "  RandomForestModel.fit(X_train, Y_train)\n",
      "C:\\Users\\LENOVO\\AppData\\Local\\Temp\\ipykernel_32880\\1365814153.py:7: DataConversionWarning: A column-vector y was passed when a 1d array was expected. Please change the shape of y to (n_samples,), for example using ravel().\n",
      "  RandomForestModel.fit(X_train, Y_train)\n",
      "C:\\Users\\LENOVO\\AppData\\Local\\Temp\\ipykernel_32880\\1365814153.py:7: DataConversionWarning: A column-vector y was passed when a 1d array was expected. Please change the shape of y to (n_samples,), for example using ravel().\n",
      "  RandomForestModel.fit(X_train, Y_train)\n",
      "C:\\Users\\LENOVO\\AppData\\Local\\Temp\\ipykernel_32880\\1365814153.py:7: DataConversionWarning: A column-vector y was passed when a 1d array was expected. Please change the shape of y to (n_samples,), for example using ravel().\n",
      "  RandomForestModel.fit(X_train, Y_train)\n",
      "C:\\Users\\LENOVO\\AppData\\Local\\Temp\\ipykernel_32880\\1365814153.py:7: DataConversionWarning: A column-vector y was passed when a 1d array was expected. Please change the shape of y to (n_samples,), for example using ravel().\n",
      "  RandomForestModel.fit(X_train, Y_train)\n",
      "C:\\Users\\LENOVO\\AppData\\Local\\Temp\\ipykernel_32880\\1365814153.py:7: DataConversionWarning: A column-vector y was passed when a 1d array was expected. Please change the shape of y to (n_samples,), for example using ravel().\n",
      "  RandomForestModel.fit(X_train, Y_train)\n",
      "C:\\Users\\LENOVO\\AppData\\Local\\Temp\\ipykernel_32880\\1365814153.py:7: DataConversionWarning: A column-vector y was passed when a 1d array was expected. Please change the shape of y to (n_samples,), for example using ravel().\n",
      "  RandomForestModel.fit(X_train, Y_train)\n",
      "C:\\Users\\LENOVO\\AppData\\Local\\Temp\\ipykernel_32880\\1365814153.py:7: DataConversionWarning: A column-vector y was passed when a 1d array was expected. Please change the shape of y to (n_samples,), for example using ravel().\n",
      "  RandomForestModel.fit(X_train, Y_train)\n",
      "C:\\Users\\LENOVO\\AppData\\Local\\Temp\\ipykernel_32880\\1365814153.py:7: DataConversionWarning: A column-vector y was passed when a 1d array was expected. Please change the shape of y to (n_samples,), for example using ravel().\n",
      "  RandomForestModel.fit(X_train, Y_train)\n",
      "C:\\Users\\LENOVO\\AppData\\Local\\Temp\\ipykernel_32880\\1365814153.py:7: DataConversionWarning: A column-vector y was passed when a 1d array was expected. Please change the shape of y to (n_samples,), for example using ravel().\n",
      "  RandomForestModel.fit(X_train, Y_train)\n",
      "C:\\Users\\LENOVO\\AppData\\Local\\Temp\\ipykernel_32880\\1365814153.py:7: DataConversionWarning: A column-vector y was passed when a 1d array was expected. Please change the shape of y to (n_samples,), for example using ravel().\n",
      "  RandomForestModel.fit(X_train, Y_train)\n",
      "C:\\Users\\LENOVO\\AppData\\Local\\Temp\\ipykernel_32880\\1365814153.py:7: DataConversionWarning: A column-vector y was passed when a 1d array was expected. Please change the shape of y to (n_samples,), for example using ravel().\n",
      "  RandomForestModel.fit(X_train, Y_train)\n",
      "C:\\Users\\LENOVO\\AppData\\Local\\Temp\\ipykernel_32880\\1365814153.py:7: DataConversionWarning: A column-vector y was passed when a 1d array was expected. Please change the shape of y to (n_samples,), for example using ravel().\n",
      "  RandomForestModel.fit(X_train, Y_train)\n",
      "C:\\Users\\LENOVO\\AppData\\Local\\Temp\\ipykernel_32880\\1365814153.py:7: DataConversionWarning: A column-vector y was passed when a 1d array was expected. Please change the shape of y to (n_samples,), for example using ravel().\n",
      "  RandomForestModel.fit(X_train, Y_train)\n",
      "C:\\Users\\LENOVO\\AppData\\Local\\Temp\\ipykernel_32880\\1365814153.py:7: DataConversionWarning: A column-vector y was passed when a 1d array was expected. Please change the shape of y to (n_samples,), for example using ravel().\n",
      "  RandomForestModel.fit(X_train, Y_train)\n",
      "C:\\Users\\LENOVO\\AppData\\Local\\Temp\\ipykernel_32880\\1365814153.py:7: DataConversionWarning: A column-vector y was passed when a 1d array was expected. Please change the shape of y to (n_samples,), for example using ravel().\n",
      "  RandomForestModel.fit(X_train, Y_train)\n",
      "C:\\Users\\LENOVO\\AppData\\Local\\Temp\\ipykernel_32880\\1365814153.py:7: DataConversionWarning: A column-vector y was passed when a 1d array was expected. Please change the shape of y to (n_samples,), for example using ravel().\n",
      "  RandomForestModel.fit(X_train, Y_train)\n",
      "C:\\Users\\LENOVO\\AppData\\Local\\Temp\\ipykernel_32880\\1365814153.py:7: DataConversionWarning: A column-vector y was passed when a 1d array was expected. Please change the shape of y to (n_samples,), for example using ravel().\n",
      "  RandomForestModel.fit(X_train, Y_train)\n",
      "C:\\Users\\LENOVO\\AppData\\Local\\Temp\\ipykernel_32880\\1365814153.py:7: DataConversionWarning: A column-vector y was passed when a 1d array was expected. Please change the shape of y to (n_samples,), for example using ravel().\n",
      "  RandomForestModel.fit(X_train, Y_train)\n",
      "C:\\Users\\LENOVO\\AppData\\Local\\Temp\\ipykernel_32880\\1365814153.py:7: DataConversionWarning: A column-vector y was passed when a 1d array was expected. Please change the shape of y to (n_samples,), for example using ravel().\n",
      "  RandomForestModel.fit(X_train, Y_train)\n",
      "C:\\Users\\LENOVO\\AppData\\Local\\Temp\\ipykernel_32880\\1365814153.py:7: DataConversionWarning: A column-vector y was passed when a 1d array was expected. Please change the shape of y to (n_samples,), for example using ravel().\n",
      "  RandomForestModel.fit(X_train, Y_train)\n",
      "C:\\Users\\LENOVO\\AppData\\Local\\Temp\\ipykernel_32880\\1365814153.py:7: DataConversionWarning: A column-vector y was passed when a 1d array was expected. Please change the shape of y to (n_samples,), for example using ravel().\n",
      "  RandomForestModel.fit(X_train, Y_train)\n",
      "C:\\Users\\LENOVO\\AppData\\Local\\Temp\\ipykernel_32880\\1365814153.py:7: DataConversionWarning: A column-vector y was passed when a 1d array was expected. Please change the shape of y to (n_samples,), for example using ravel().\n",
      "  RandomForestModel.fit(X_train, Y_train)\n",
      "C:\\Users\\LENOVO\\AppData\\Local\\Temp\\ipykernel_32880\\1365814153.py:7: DataConversionWarning: A column-vector y was passed when a 1d array was expected. Please change the shape of y to (n_samples,), for example using ravel().\n",
      "  RandomForestModel.fit(X_train, Y_train)\n",
      "C:\\Users\\LENOVO\\AppData\\Local\\Temp\\ipykernel_32880\\1365814153.py:7: DataConversionWarning: A column-vector y was passed when a 1d array was expected. Please change the shape of y to (n_samples,), for example using ravel().\n",
      "  RandomForestModel.fit(X_train, Y_train)\n",
      "C:\\Users\\LENOVO\\AppData\\Local\\Temp\\ipykernel_32880\\1365814153.py:7: DataConversionWarning: A column-vector y was passed when a 1d array was expected. Please change the shape of y to (n_samples,), for example using ravel().\n",
      "  RandomForestModel.fit(X_train, Y_train)\n",
      "C:\\Users\\LENOVO\\AppData\\Local\\Temp\\ipykernel_32880\\1365814153.py:7: DataConversionWarning: A column-vector y was passed when a 1d array was expected. Please change the shape of y to (n_samples,), for example using ravel().\n",
      "  RandomForestModel.fit(X_train, Y_train)\n",
      "C:\\Users\\LENOVO\\AppData\\Local\\Temp\\ipykernel_32880\\1365814153.py:7: DataConversionWarning: A column-vector y was passed when a 1d array was expected. Please change the shape of y to (n_samples,), for example using ravel().\n",
      "  RandomForestModel.fit(X_train, Y_train)\n",
      "C:\\Users\\LENOVO\\AppData\\Local\\Temp\\ipykernel_32880\\1365814153.py:7: DataConversionWarning: A column-vector y was passed when a 1d array was expected. Please change the shape of y to (n_samples,), for example using ravel().\n",
      "  RandomForestModel.fit(X_train, Y_train)\n",
      "C:\\Users\\LENOVO\\AppData\\Local\\Temp\\ipykernel_32880\\1365814153.py:7: DataConversionWarning: A column-vector y was passed when a 1d array was expected. Please change the shape of y to (n_samples,), for example using ravel().\n",
      "  RandomForestModel.fit(X_train, Y_train)\n",
      "C:\\Users\\LENOVO\\AppData\\Local\\Temp\\ipykernel_32880\\1365814153.py:7: DataConversionWarning: A column-vector y was passed when a 1d array was expected. Please change the shape of y to (n_samples,), for example using ravel().\n",
      "  RandomForestModel.fit(X_train, Y_train)\n",
      "C:\\Users\\LENOVO\\AppData\\Local\\Temp\\ipykernel_32880\\1365814153.py:7: DataConversionWarning: A column-vector y was passed when a 1d array was expected. Please change the shape of y to (n_samples,), for example using ravel().\n",
      "  RandomForestModel.fit(X_train, Y_train)\n",
      "C:\\Users\\LENOVO\\AppData\\Local\\Temp\\ipykernel_32880\\1365814153.py:7: DataConversionWarning: A column-vector y was passed when a 1d array was expected. Please change the shape of y to (n_samples,), for example using ravel().\n",
      "  RandomForestModel.fit(X_train, Y_train)\n",
      "C:\\Users\\LENOVO\\AppData\\Local\\Temp\\ipykernel_32880\\1365814153.py:7: DataConversionWarning: A column-vector y was passed when a 1d array was expected. Please change the shape of y to (n_samples,), for example using ravel().\n",
      "  RandomForestModel.fit(X_train, Y_train)\n",
      "C:\\Users\\LENOVO\\AppData\\Local\\Temp\\ipykernel_32880\\1365814153.py:7: DataConversionWarning: A column-vector y was passed when a 1d array was expected. Please change the shape of y to (n_samples,), for example using ravel().\n",
      "  RandomForestModel.fit(X_train, Y_train)\n",
      "C:\\Users\\LENOVO\\AppData\\Local\\Temp\\ipykernel_32880\\1365814153.py:7: DataConversionWarning: A column-vector y was passed when a 1d array was expected. Please change the shape of y to (n_samples,), for example using ravel().\n",
      "  RandomForestModel.fit(X_train, Y_train)\n",
      "C:\\Users\\LENOVO\\AppData\\Local\\Temp\\ipykernel_32880\\1365814153.py:7: DataConversionWarning: A column-vector y was passed when a 1d array was expected. Please change the shape of y to (n_samples,), for example using ravel().\n",
      "  RandomForestModel.fit(X_train, Y_train)\n",
      "C:\\Users\\LENOVO\\AppData\\Local\\Temp\\ipykernel_32880\\1365814153.py:7: DataConversionWarning: A column-vector y was passed when a 1d array was expected. Please change the shape of y to (n_samples,), for example using ravel().\n",
      "  RandomForestModel.fit(X_train, Y_train)\n",
      "C:\\Users\\LENOVO\\AppData\\Local\\Temp\\ipykernel_32880\\1365814153.py:7: DataConversionWarning: A column-vector y was passed when a 1d array was expected. Please change the shape of y to (n_samples,), for example using ravel().\n",
      "  RandomForestModel.fit(X_train, Y_train)\n",
      "C:\\Users\\LENOVO\\AppData\\Local\\Temp\\ipykernel_32880\\1365814153.py:7: DataConversionWarning: A column-vector y was passed when a 1d array was expected. Please change the shape of y to (n_samples,), for example using ravel().\n",
      "  RandomForestModel.fit(X_train, Y_train)\n",
      "C:\\Users\\LENOVO\\AppData\\Local\\Temp\\ipykernel_32880\\1365814153.py:7: DataConversionWarning: A column-vector y was passed when a 1d array was expected. Please change the shape of y to (n_samples,), for example using ravel().\n",
      "  RandomForestModel.fit(X_train, Y_train)\n",
      "C:\\Users\\LENOVO\\AppData\\Local\\Temp\\ipykernel_32880\\1365814153.py:7: DataConversionWarning: A column-vector y was passed when a 1d array was expected. Please change the shape of y to (n_samples,), for example using ravel().\n",
      "  RandomForestModel.fit(X_train, Y_train)\n",
      "C:\\Users\\LENOVO\\AppData\\Local\\Temp\\ipykernel_32880\\1365814153.py:7: DataConversionWarning: A column-vector y was passed when a 1d array was expected. Please change the shape of y to (n_samples,), for example using ravel().\n",
      "  RandomForestModel.fit(X_train, Y_train)\n",
      "C:\\Users\\LENOVO\\AppData\\Local\\Temp\\ipykernel_32880\\1365814153.py:7: DataConversionWarning: A column-vector y was passed when a 1d array was expected. Please change the shape of y to (n_samples,), for example using ravel().\n",
      "  RandomForestModel.fit(X_train, Y_train)\n",
      "C:\\Users\\LENOVO\\AppData\\Local\\Temp\\ipykernel_32880\\1365814153.py:7: DataConversionWarning: A column-vector y was passed when a 1d array was expected. Please change the shape of y to (n_samples,), for example using ravel().\n",
      "  RandomForestModel.fit(X_train, Y_train)\n",
      "C:\\Users\\LENOVO\\AppData\\Local\\Temp\\ipykernel_32880\\1365814153.py:7: DataConversionWarning: A column-vector y was passed when a 1d array was expected. Please change the shape of y to (n_samples,), for example using ravel().\n",
      "  RandomForestModel.fit(X_train, Y_train)\n",
      "C:\\Users\\LENOVO\\AppData\\Local\\Temp\\ipykernel_32880\\1365814153.py:7: DataConversionWarning: A column-vector y was passed when a 1d array was expected. Please change the shape of y to (n_samples,), for example using ravel().\n",
      "  RandomForestModel.fit(X_train, Y_train)\n",
      "C:\\Users\\LENOVO\\AppData\\Local\\Temp\\ipykernel_32880\\1365814153.py:7: DataConversionWarning: A column-vector y was passed when a 1d array was expected. Please change the shape of y to (n_samples,), for example using ravel().\n",
      "  RandomForestModel.fit(X_train, Y_train)\n",
      "C:\\Users\\LENOVO\\AppData\\Local\\Temp\\ipykernel_32880\\1365814153.py:7: DataConversionWarning: A column-vector y was passed when a 1d array was expected. Please change the shape of y to (n_samples,), for example using ravel().\n",
      "  RandomForestModel.fit(X_train, Y_train)\n",
      "C:\\Users\\LENOVO\\AppData\\Local\\Temp\\ipykernel_32880\\1365814153.py:7: DataConversionWarning: A column-vector y was passed when a 1d array was expected. Please change the shape of y to (n_samples,), for example using ravel().\n",
      "  RandomForestModel.fit(X_train, Y_train)\n",
      "C:\\Users\\LENOVO\\AppData\\Local\\Temp\\ipykernel_32880\\1365814153.py:7: DataConversionWarning: A column-vector y was passed when a 1d array was expected. Please change the shape of y to (n_samples,), for example using ravel().\n",
      "  RandomForestModel.fit(X_train, Y_train)\n",
      "C:\\Users\\LENOVO\\AppData\\Local\\Temp\\ipykernel_32880\\1365814153.py:7: DataConversionWarning: A column-vector y was passed when a 1d array was expected. Please change the shape of y to (n_samples,), for example using ravel().\n",
      "  RandomForestModel.fit(X_train, Y_train)\n",
      "C:\\Users\\LENOVO\\AppData\\Local\\Temp\\ipykernel_32880\\1365814153.py:7: DataConversionWarning: A column-vector y was passed when a 1d array was expected. Please change the shape of y to (n_samples,), for example using ravel().\n",
      "  RandomForestModel.fit(X_train, Y_train)\n",
      "C:\\Users\\LENOVO\\AppData\\Local\\Temp\\ipykernel_32880\\1365814153.py:7: DataConversionWarning: A column-vector y was passed when a 1d array was expected. Please change the shape of y to (n_samples,), for example using ravel().\n",
      "  RandomForestModel.fit(X_train, Y_train)\n",
      "C:\\Users\\LENOVO\\AppData\\Local\\Temp\\ipykernel_32880\\1365814153.py:7: DataConversionWarning: A column-vector y was passed when a 1d array was expected. Please change the shape of y to (n_samples,), for example using ravel().\n",
      "  RandomForestModel.fit(X_train, Y_train)\n",
      "C:\\Users\\LENOVO\\AppData\\Local\\Temp\\ipykernel_32880\\1365814153.py:7: DataConversionWarning: A column-vector y was passed when a 1d array was expected. Please change the shape of y to (n_samples,), for example using ravel().\n",
      "  RandomForestModel.fit(X_train, Y_train)\n",
      "C:\\Users\\LENOVO\\AppData\\Local\\Temp\\ipykernel_32880\\1365814153.py:7: DataConversionWarning: A column-vector y was passed when a 1d array was expected. Please change the shape of y to (n_samples,), for example using ravel().\n",
      "  RandomForestModel.fit(X_train, Y_train)\n",
      "C:\\Users\\LENOVO\\AppData\\Local\\Temp\\ipykernel_32880\\1365814153.py:7: DataConversionWarning: A column-vector y was passed when a 1d array was expected. Please change the shape of y to (n_samples,), for example using ravel().\n",
      "  RandomForestModel.fit(X_train, Y_train)\n",
      "C:\\Users\\LENOVO\\AppData\\Local\\Temp\\ipykernel_32880\\1365814153.py:7: DataConversionWarning: A column-vector y was passed when a 1d array was expected. Please change the shape of y to (n_samples,), for example using ravel().\n",
      "  RandomForestModel.fit(X_train, Y_train)\n",
      "C:\\Users\\LENOVO\\AppData\\Local\\Temp\\ipykernel_32880\\1365814153.py:7: DataConversionWarning: A column-vector y was passed when a 1d array was expected. Please change the shape of y to (n_samples,), for example using ravel().\n",
      "  RandomForestModel.fit(X_train, Y_train)\n",
      "C:\\Users\\LENOVO\\AppData\\Local\\Temp\\ipykernel_32880\\1365814153.py:7: DataConversionWarning: A column-vector y was passed when a 1d array was expected. Please change the shape of y to (n_samples,), for example using ravel().\n",
      "  RandomForestModel.fit(X_train, Y_train)\n",
      "C:\\Users\\LENOVO\\AppData\\Local\\Temp\\ipykernel_32880\\1365814153.py:7: DataConversionWarning: A column-vector y was passed when a 1d array was expected. Please change the shape of y to (n_samples,), for example using ravel().\n",
      "  RandomForestModel.fit(X_train, Y_train)\n",
      "C:\\Users\\LENOVO\\AppData\\Local\\Temp\\ipykernel_32880\\1365814153.py:7: DataConversionWarning: A column-vector y was passed when a 1d array was expected. Please change the shape of y to (n_samples,), for example using ravel().\n",
      "  RandomForestModel.fit(X_train, Y_train)\n",
      "C:\\Users\\LENOVO\\AppData\\Local\\Temp\\ipykernel_32880\\1365814153.py:7: DataConversionWarning: A column-vector y was passed when a 1d array was expected. Please change the shape of y to (n_samples,), for example using ravel().\n",
      "  RandomForestModel.fit(X_train, Y_train)\n",
      "C:\\Users\\LENOVO\\AppData\\Local\\Temp\\ipykernel_32880\\1365814153.py:7: DataConversionWarning: A column-vector y was passed when a 1d array was expected. Please change the shape of y to (n_samples,), for example using ravel().\n",
      "  RandomForestModel.fit(X_train, Y_train)\n",
      "C:\\Users\\LENOVO\\AppData\\Local\\Temp\\ipykernel_32880\\1365814153.py:7: DataConversionWarning: A column-vector y was passed when a 1d array was expected. Please change the shape of y to (n_samples,), for example using ravel().\n",
      "  RandomForestModel.fit(X_train, Y_train)\n",
      "C:\\Users\\LENOVO\\AppData\\Local\\Temp\\ipykernel_32880\\1365814153.py:7: DataConversionWarning: A column-vector y was passed when a 1d array was expected. Please change the shape of y to (n_samples,), for example using ravel().\n",
      "  RandomForestModel.fit(X_train, Y_train)\n",
      "C:\\Users\\LENOVO\\AppData\\Local\\Temp\\ipykernel_32880\\1365814153.py:7: DataConversionWarning: A column-vector y was passed when a 1d array was expected. Please change the shape of y to (n_samples,), for example using ravel().\n",
      "  RandomForestModel.fit(X_train, Y_train)\n",
      "C:\\Users\\LENOVO\\AppData\\Local\\Temp\\ipykernel_32880\\1365814153.py:7: DataConversionWarning: A column-vector y was passed when a 1d array was expected. Please change the shape of y to (n_samples,), for example using ravel().\n",
      "  RandomForestModel.fit(X_train, Y_train)\n",
      "C:\\Users\\LENOVO\\AppData\\Local\\Temp\\ipykernel_32880\\1365814153.py:7: DataConversionWarning: A column-vector y was passed when a 1d array was expected. Please change the shape of y to (n_samples,), for example using ravel().\n",
      "  RandomForestModel.fit(X_train, Y_train)\n",
      "C:\\Users\\LENOVO\\AppData\\Local\\Temp\\ipykernel_32880\\1365814153.py:7: DataConversionWarning: A column-vector y was passed when a 1d array was expected. Please change the shape of y to (n_samples,), for example using ravel().\n",
      "  RandomForestModel.fit(X_train, Y_train)\n",
      "C:\\Users\\LENOVO\\AppData\\Local\\Temp\\ipykernel_32880\\1365814153.py:7: DataConversionWarning: A column-vector y was passed when a 1d array was expected. Please change the shape of y to (n_samples,), for example using ravel().\n",
      "  RandomForestModel.fit(X_train, Y_train)\n",
      "C:\\Users\\LENOVO\\AppData\\Local\\Temp\\ipykernel_32880\\1365814153.py:7: DataConversionWarning: A column-vector y was passed when a 1d array was expected. Please change the shape of y to (n_samples,), for example using ravel().\n",
      "  RandomForestModel.fit(X_train, Y_train)\n",
      "C:\\Users\\LENOVO\\AppData\\Local\\Temp\\ipykernel_32880\\1365814153.py:7: DataConversionWarning: A column-vector y was passed when a 1d array was expected. Please change the shape of y to (n_samples,), for example using ravel().\n",
      "  RandomForestModel.fit(X_train, Y_train)\n",
      "C:\\Users\\LENOVO\\AppData\\Local\\Temp\\ipykernel_32880\\1365814153.py:7: DataConversionWarning: A column-vector y was passed when a 1d array was expected. Please change the shape of y to (n_samples,), for example using ravel().\n",
      "  RandomForestModel.fit(X_train, Y_train)\n",
      "C:\\Users\\LENOVO\\AppData\\Local\\Temp\\ipykernel_32880\\1365814153.py:7: DataConversionWarning: A column-vector y was passed when a 1d array was expected. Please change the shape of y to (n_samples,), for example using ravel().\n",
      "  RandomForestModel.fit(X_train, Y_train)\n",
      "C:\\Users\\LENOVO\\AppData\\Local\\Temp\\ipykernel_32880\\1365814153.py:7: DataConversionWarning: A column-vector y was passed when a 1d array was expected. Please change the shape of y to (n_samples,), for example using ravel().\n",
      "  RandomForestModel.fit(X_train, Y_train)\n"
     ]
    }
   ],
   "source": [
    "R2Score = R2ScoreOfModel(X_train, Y_train, n_estimators, max_depth, random_state)"
   ]
  },
  {
   "cell_type": "code",
   "execution_count": 316,
   "metadata": {},
   "outputs": [
    {
     "name": "stdout",
     "output_type": "stream",
     "text": [
      "R2 score:  0.1888386773458297\n"
     ]
    }
   ],
   "source": [
    "print('R2 score: ', R2Score)"
   ]
  },
  {
   "cell_type": "code",
   "execution_count": null,
   "metadata": {},
   "outputs": [],
   "source": []
  }
 ],
 "metadata": {
  "interpreter": {
   "hash": "63fd5069d213b44bf678585dea6b12cceca9941eaf7f819626cde1f2670de90d"
  },
  "kernelspec": {
   "display_name": "Python 3.9.6 64-bit",
   "language": "python",
   "name": "python3"
  },
  "language_info": {
   "codemirror_mode": {
    "name": "ipython",
    "version": 3
   },
   "file_extension": ".py",
   "mimetype": "text/x-python",
   "name": "python",
   "nbconvert_exporter": "python",
   "pygments_lexer": "ipython3",
   "version": "3.9.6"
  },
  "orig_nbformat": 4
 },
 "nbformat": 4,
 "nbformat_minor": 2
}
